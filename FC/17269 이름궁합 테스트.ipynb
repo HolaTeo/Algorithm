{
 "cells": [
  {
   "cell_type": "code",
   "execution_count": null,
   "metadata": {},
   "outputs": [],
   "source": [
    "N, M = map(int, input().split())\n",
    "A, B = input().split()\n",
    "\n",
    "alp = [3,2,1,2,4,3,1,3,1,1,3,1,3,2,1,2,2,2,1,2,1,1,1,2,2,1]\n",
    "\n",
    "AB = ''\n",
    "min_len = min(N,M)\n",
    "for i in range(min_len):\n",
    "    AB += A[i] + B[i]\n",
    "\n",
    "AB += A[min_len:] + B[min_len:]\n",
    "\n",
    "lst = [alp[ord(i)-ord('A')] for i in AB]\n",
    "\n",
    "for i in range(N+M-2):\n",
    "    for j in range(N+M-1-i):\n",
    "        lst[j] += lst[j+1]\n",
    "\n",
    "print(\"{}%\".format(lst[0] % 10 * 10 + lst[1] % 10))"
   ]
  }
 ],
 "metadata": {
  "kernelspec": {
   "display_name": "Python 3",
   "language": "python",
   "name": "python3"
  },
  "language_info": {
   "codemirror_mode": {
    "name": "ipython",
    "version": 3
   },
   "file_extension": ".py",
   "mimetype": "text/x-python",
   "name": "python",
   "nbconvert_exporter": "python",
   "pygments_lexer": "ipython3",
   "version": "3.7.7"
  }
 },
 "nbformat": 4,
 "nbformat_minor": 4
}
