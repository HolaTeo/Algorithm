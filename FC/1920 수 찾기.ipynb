{
 "cells": [
  {
   "cell_type": "code",
   "execution_count": null,
   "metadata": {},
   "outputs": [],
   "source": [
    "N, A = int(input()), {i: 1 for i in map(int, input().split())} # 있는 수는 1로, 없는수는 에러\n",
    "M = input()\n",
    "\n",
    "for i in list(map(int, input().split())):\n",
    "    print(A.get(i,0)) # .get -> 등록이 안된 key값을 0(다른 값으로 대체가능)으로 설정\n",
    "    # print(1 if i in A else 0)"
   ]
  }
 ],
 "metadata": {
  "kernelspec": {
   "display_name": "Python 3",
   "language": "python",
   "name": "python3"
  },
  "language_info": {
   "codemirror_mode": {
    "name": "ipython",
    "version": 3
   },
   "file_extension": ".py",
   "mimetype": "text/x-python",
   "name": "python",
   "nbconvert_exporter": "python",
   "pygments_lexer": "ipython3",
   "version": "3.7.7"
  }
 },
 "nbformat": 4,
 "nbformat_minor": 4
}
