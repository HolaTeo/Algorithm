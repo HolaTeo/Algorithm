{
 "cells": [
  {
   "cell_type": "code",
   "execution_count": null,
   "metadata": {},
   "outputs": [],
   "source": [
    "N, M = map(int, input().split())\n",
    "\n",
    "team_mem, mem_team = {}, {} # 빈 딕셔너리\n",
    "\n",
    "for i in range(N):\n",
    "    # team_name : 팀이름, mem_num : 멤버수\n",
    "    team_name, mem_num = input(), int(input())\n",
    "    team_mem[team_name] = [] # 업데이트 할 빈 리스트\n",
    "    for j in range(mem_num): # 멤버수 만큼 input()의 이름을 저장\n",
    "        name = input()\n",
    "        team_mem[team_name].append(name) # 팀이름으로 멤버 맞추기\n",
    "        mem_team[name] = team_name # 멤버로 팀 맞추기\n",
    "        \n",
    "for i in range(M):\n",
    "    name, q = input(), int(input())\n",
    "    if q : # q=1 일 때 \n",
    "        print(mem_team[name]) # 멤버로 팀의 멤버들 프린트\n",
    "    else:\n",
    "        for mem in sorted(team_mem[name]): # 팀에 있는 멤버들 순서정렬\n",
    "            print(mem)"
   ]
  }
 ],
 "metadata": {
  "kernelspec": {
   "display_name": "Python 3",
   "language": "python",
   "name": "python3"
  },
  "language_info": {
   "codemirror_mode": {
    "name": "ipython",
    "version": 3
   },
   "file_extension": ".py",
   "mimetype": "text/x-python",
   "name": "python",
   "nbconvert_exporter": "python",
   "pygments_lexer": "ipython3",
   "version": "3.7.7"
  }
 },
 "nbformat": 4,
 "nbformat_minor": 4
}
